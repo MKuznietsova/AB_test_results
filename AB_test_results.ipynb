{
 "cells": [
  {
   "cell_type": "markdown",
   "id": "4ab5f2e5-3bb0-431d-9200-2537c630db66",
   "metadata": {},
   "source": [
    "<center><h2>А/В тестування</h2>\n",
    "<h3>Вплив повідомлення про знижку на рішення про придбання продукту</h3></center>"
   ]
  },
  {
   "cell_type": "markdown",
   "id": "7ba8d1de-9292-4068-9eec-c0f03cf49079",
   "metadata": {},
   "source": [
    "<h4>Контекст дослідження</h4>\n",
    "<li>Гіпотеза 0: повідомлення про знижку не є вирішальним для рішення про придбання продукту (конверсія від реєстрації до підписки майже не змінюється)</li>\n",
    "<li>Гіпотеза 1: якщо користувачам повідомити про наявність знижки, то конверсія до покупки збільшиться, навіть якщо насправді ціна залишається попередньою</li>\n",
    "\n",
    "<li>Група А: пропонуємо користувачам придбати підписку за USD4.99</li>\n",
    "<li>Група Б: пропонуємо користувачам придбати підписку за USD4.99, але кажемо що це ціна зі знижкою 50%</li>"
   ]
  },
  {
   "cell_type": "code",
   "execution_count": 3,
   "id": "9c19d81f-023d-4098-93c6-798b075d98e7",
   "metadata": {},
   "outputs": [],
   "source": [
    "import pandas as pd"
   ]
  },
  {
   "cell_type": "code",
   "execution_count": 5,
   "id": "53ef7457-3f22-4c70-b0fc-ef4f69e9845a",
   "metadata": {},
   "outputs": [
    {
     "data": {
      "text/html": [
       "<div>\n",
       "<style scoped>\n",
       "    .dataframe tbody tr th:only-of-type {\n",
       "        vertical-align: middle;\n",
       "    }\n",
       "\n",
       "    .dataframe tbody tr th {\n",
       "        vertical-align: top;\n",
       "    }\n",
       "\n",
       "    .dataframe thead th {\n",
       "        text-align: right;\n",
       "    }\n",
       "</style>\n",
       "<table border=\"1\" class=\"dataframe\">\n",
       "  <thead>\n",
       "    <tr style=\"text-align: right;\">\n",
       "      <th></th>\n",
       "      <th>user_id</th>\n",
       "      <th>timestamp</th>\n",
       "      <th>test_group</th>\n",
       "      <th>conversion</th>\n",
       "    </tr>\n",
       "  </thead>\n",
       "  <tbody>\n",
       "    <tr>\n",
       "      <th>0</th>\n",
       "      <td>7f6833e6-1141-4f20-b4b2-f1e31019b1fd</td>\n",
       "      <td>2023-07-04 04:40:55.848109</td>\n",
       "      <td>a</td>\n",
       "      <td>0</td>\n",
       "    </tr>\n",
       "    <tr>\n",
       "      <th>1</th>\n",
       "      <td>e6a6e960-d3f3-4074-a516-ba1e609b211e</td>\n",
       "      <td>2023-07-06 00:26:45.486187</td>\n",
       "      <td>b</td>\n",
       "      <td>0</td>\n",
       "    </tr>\n",
       "    <tr>\n",
       "      <th>2</th>\n",
       "      <td>4d3fbfa5-6847-410a-bac2-477f01d5f400</td>\n",
       "      <td>2023-07-10 20:24:33.639464</td>\n",
       "      <td>b</td>\n",
       "      <td>0</td>\n",
       "    </tr>\n",
       "    <tr>\n",
       "      <th>3</th>\n",
       "      <td>361457d9-a044-48f7-981c-d67dc3861679</td>\n",
       "      <td>2023-07-20 07:04:49.957013</td>\n",
       "      <td>b</td>\n",
       "      <td>0</td>\n",
       "    </tr>\n",
       "    <tr>\n",
       "      <th>4</th>\n",
       "      <td>285cd63d-7d03-427f-a062-1fa2dd2e77d6</td>\n",
       "      <td>2023-07-19 23:27:50.116680</td>\n",
       "      <td>b</td>\n",
       "      <td>0</td>\n",
       "    </tr>\n",
       "  </tbody>\n",
       "</table>\n",
       "</div>"
      ],
      "text/plain": [
       "                                user_id                   timestamp  \\\n",
       "0  7f6833e6-1141-4f20-b4b2-f1e31019b1fd  2023-07-04 04:40:55.848109   \n",
       "1  e6a6e960-d3f3-4074-a516-ba1e609b211e  2023-07-06 00:26:45.486187   \n",
       "2  4d3fbfa5-6847-410a-bac2-477f01d5f400  2023-07-10 20:24:33.639464   \n",
       "3  361457d9-a044-48f7-981c-d67dc3861679  2023-07-20 07:04:49.957013   \n",
       "4  285cd63d-7d03-427f-a062-1fa2dd2e77d6  2023-07-19 23:27:50.116680   \n",
       "\n",
       "  test_group  conversion  \n",
       "0          a           0  \n",
       "1          b           0  \n",
       "2          b           0  \n",
       "3          b           0  \n",
       "4          b           0  "
      ]
     },
     "execution_count": 5,
     "metadata": {},
     "output_type": "execute_result"
    }
   ],
   "source": [
    "ds = pd.read_csv('ab_test_data.csv')\n",
    "ds.head()"
   ]
  },
  {
   "cell_type": "code",
   "execution_count": 7,
   "id": "2e074196-bd72-4c65-91ae-75eab24c3a2f",
   "metadata": {},
   "outputs": [
    {
     "name": "stdout",
     "output_type": "stream",
     "text": [
      "There are 10013 users in A-group and 9985 users in B-group\n"
     ]
    }
   ],
   "source": [
    "#Кількість респондентів в кожній групі\n",
    "group_a = ds[ds.test_group == 'a']\n",
    "group_b = ds[ds.test_group == 'b']\n",
    "print (f'There are {len(group_a)} users in A-group and {len(group_b)} users in B-group')"
   ]
  },
  {
   "cell_type": "code",
   "execution_count": 9,
   "id": "678e15dd-fda3-4942-a612-7351fa5659cc",
   "metadata": {},
   "outputs": [
    {
     "name": "stdout",
     "output_type": "stream",
     "text": [
      "10013\n",
      "9985\n"
     ]
    }
   ],
   "source": [
    "a_users = group_a['user_id'].nunique()\n",
    "b_users = group_b['user_id'].nunique()\n",
    "print(a_users)\n",
    "print(b_users)\n",
    "#all users in the column are unique"
   ]
  },
  {
   "cell_type": "code",
   "execution_count": 11,
   "id": "e5d0889f-bc50-4a8c-9c8b-bb991dadf8f5",
   "metadata": {},
   "outputs": [
    {
     "name": "stdout",
     "output_type": "stream",
     "text": [
      "There have been 611 conversions in A-group and 889 conversions in B-group\n",
      "Level of conversion in A-group is 6.1, in B-group – 8.9\n"
     ]
    }
   ],
   "source": [
    "#Кількість конверсій в кожній групі та рівень конверсії\n",
    "a_conv = group_a['conversion'].sum()\n",
    "b_conv = group_b['conversion'].sum()\n",
    "a_conv_level = round((a_conv/a_users), 3)*100\n",
    "b_conv_level = round((b_conv/b_users), 3)*100\n",
    "print (f'There have been {a_conv} conversions in A-group and {b_conv} conversions in B-group')\n",
    "print(f'Level of conversion in A-group is {a_conv_level}, in B-group – {b_conv_level}')"
   ]
  },
  {
   "cell_type": "code",
   "execution_count": 15,
   "id": "1f5f6fe7-fd12-43e0-93c0-01b0dd27791b",
   "metadata": {},
   "outputs": [
    {
     "name": "stdout",
     "output_type": "stream",
     "text": [
      "<class 'pandas.core.frame.DataFrame'>\n",
      "RangeIndex: 19998 entries, 0 to 19997\n",
      "Data columns (total 5 columns):\n",
      " #   Column      Non-Null Count  Dtype         \n",
      "---  ------      --------------  -----         \n",
      " 0   user_id     19998 non-null  object        \n",
      " 1   Date        19998 non-null  datetime64[ns]\n",
      " 2   timestamp   19998 non-null  object        \n",
      " 3   test_group  19998 non-null  object        \n",
      " 4   conversion  19998 non-null  int64         \n",
      "dtypes: datetime64[ns](1), int64(1), object(3)\n",
      "memory usage: 781.3+ KB\n"
     ]
    }
   ],
   "source": [
    "date = ds.timestamp.str.split(' ', expand = True)[0]\n",
    "ds.insert(1, 'Date', value = date)\n",
    "ds.Date = pd.to_datetime(ds['Date'])\n",
    "ds.info()"
   ]
  },
  {
   "cell_type": "code",
   "execution_count": 19,
   "id": "b1438e71-bd04-459a-ab0d-927231d9cc37",
   "metadata": {},
   "outputs": [
    {
     "name": "stdout",
     "output_type": "stream",
     "text": [
      "The date of the test start is 2023-07-03 00:00:00, the date of the test end is 2023-07-25 00:00:00, the test length is 22 days 00:00:00\n"
     ]
    }
   ],
   "source": [
    "#Дата початку тесту\n",
    "start_date = ds.Date.min()\n",
    "\n",
    "#Дата завершення тесту\n",
    "end_date = ds.Date.max()\n",
    "#Тривалість тесту\n",
    "test_len = end_date - start_date\n",
    "print(f'The date of the test start is {start_date}, the date of the test end is {end_date}, the test length is {test_len}')"
   ]
  },
  {
   "cell_type": "code",
   "execution_count": 21,
   "id": "8da6ed9a-c0bf-4af9-9094-ea825243d1d7",
   "metadata": {},
   "outputs": [],
   "source": [
    "from scipy import stats"
   ]
  },
  {
   "cell_type": "code",
   "execution_count": 23,
   "id": "16b09133-eb60-4cd5-ab58-56a8e3c54a93",
   "metadata": {},
   "outputs": [
    {
     "name": "stdout",
     "output_type": "stream",
     "text": [
      "T-statistics is  -7.53\n",
      "P-value is  0.0\n",
      "The difference is statistically significant, Null hypothesis is rejected\n"
     ]
    }
   ],
   "source": [
    "alpha = 0.05\n",
    "\n",
    "#В якості альтернативної гіпотези ми вважаємо, що середнє значення конверсії в групі А буде меншим, ніж в групі Б\n",
    "#група А отримувала звичайну ціну без акції, група Б отримувала повідомлення про знижку\n",
    "t_stat, pvalue = stats.ttest_ind(ds[ds['test_group']=='a']['conversion'],\n",
    "                                 ds[ds['test_group']=='b']['conversion'], alternative = 'less')\n",
    "print ('T-statistics is ', round(t_stat, 2))\n",
    "print ('P-value is ', round(pvalue, 2))\n",
    "\n",
    "if pvalue < alpha:\n",
    "    print(f'The difference is statistically significant, Null hypothesis is rejected')\n",
    "else:\n",
    "    print(f'The difference is statisically not significant, Null hypothesis can not be rejected')"
   ]
  },
  {
   "cell_type": "code",
   "execution_count": 25,
   "id": "4b8cedb5-53b8-410f-a323-4d80563de174",
   "metadata": {},
   "outputs": [],
   "source": [
    "import matplotlib.pyplot as plt\n",
    "import seaborn as sns"
   ]
  },
  {
   "cell_type": "code",
   "execution_count": 26,
   "id": "c0e29a80-f1c6-463d-913e-1f5dc41c28e1",
   "metadata": {},
   "outputs": [
    {
     "data": {
      "image/png": "[encoded data removed]",
      "text/plain": [
       "<Figure size 700x500 with 1 Axes>"
      ]
     },
     "metadata": {},
     "output_type": "display_data"
    }
   ],
   "source": [
    "plt.figure(figsize=(7, 5))\n",
    "sns.barplot(x=ds['test_group'], \n",
    "            y=ds['conversion'], \n",
    "            errorbar=('ci', 95)) # Confidence Intervals\n",
    "\n",
    "plt.title('A/B Test Results in 95% confidence interval')\n",
    "plt.xlabel('Group')\n",
    "plt.ylabel('Mean')\n",
    "\n",
    "plt.show()"
   ]
  },
  {
   "cell_type": "markdown",
   "id": "64e3f77a-9b34-40e6-ab80-db9cc3289d5b",
   "metadata": {},
   "source": [
    "<b>Висновки А/В тесту:</b>\n",
    "<p>Загальні дані:</p>\n",
    "    <li>Загальна тривалість тесту склала 22 дні</li>\n",
    "    <li>В групі А прийняли участь 10013 респонденти, в групі Б – 9985</li>\n",
    "    <li>Респондентам в групі А пропонували купити підписку за звичайною ціною USD4.99, респондентам в групі Б також пропонували купити підписку за USD4.99, але зазначалось що це ціна зі знижкою 50%</li>\n",
    "    <li>При цьому кількість конверсій в групі Б виявилась вищою і склала 889 проти 611 у групі А</li>\n",
    "    <li>Рівень конверсії в групі Б складає 8,9%, в групі А – 6,1%</li>\n",
    "<ol>1. В результаті проведення незалежного А/Б тесту ми отримали рівень p-value, який виходить за межі статистично значущого діапазону, що дозволило нам відхилити нульову гіпотезу про те що повідомлення про знижку не впливає на рішення придбати підписку</ol>\n",
    "<ol>2. Альтернативна гіпотеза про те що повідомлення про знижку дозволяє збільшити конверсію до покупки є вірною. Приймаємо альтернативну гіпотезу</ol>"
   ]
  }
 ],
 "metadata": {
  "kernelspec": {
   "display_name": "Python 3 (ipykernel)",
   "language": "python",
   "name": "python3"
  },
  "language_info": {
   "codemirror_mode": {
    "name": "ipython",
    "version": 3
   },
   "file_extension": ".py",
   "mimetype": "text/x-python",
   "name": "python",
   "nbconvert_exporter": "python",
   "pygments_lexer": "ipython3",
   "version": "3.12.7"
  }
 },
 "nbformat": 4,
 "nbformat_minor": 5
}
